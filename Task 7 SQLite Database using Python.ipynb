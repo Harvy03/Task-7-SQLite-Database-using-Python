{
 "cells": [
  {
   "cell_type": "code",
   "execution_count": 1,
   "id": "41f12937-45ed-4e95-a22a-7f617cfa965e",
   "metadata": {},
   "outputs": [],
   "source": [
    "import sqlite3\n",
    "import pandas as pd\n",
    "import matplotlib.pyplot as plt"
   ]
  },
  {
   "cell_type": "code",
   "execution_count": 2,
   "id": "129c9be0-420e-4a00-8838-731d7459b228",
   "metadata": {},
   "outputs": [],
   "source": [
    "# Step 1: Connect to database (creates one if it doesn’t exist)\n",
    "conn = sqlite3.connect(\"sales_data.db\")\n",
    "cursor = conn.cursor()"
   ]
  },
  {
   "cell_type": "code",
   "execution_count": 3,
   "id": "c776eda0-da1b-45e5-a761-c15536b5dd9d",
   "metadata": {},
   "outputs": [
    {
     "data": {
      "text/plain": [
       "<sqlite3.Cursor at 0x19386bac840>"
      ]
     },
     "execution_count": 3,
     "metadata": {},
     "output_type": "execute_result"
    }
   ],
   "source": [
    "# Step 2: Create sales table and insert data (only run once!)\n",
    "cursor.execute(\"\"\"\n",
    "CREATE TABLE IF NOT EXISTS sales (\n",
    "    product TEXT,\n",
    "    quantity INTEGER,\n",
    "    price REAL\n",
    ")\n",
    "\"\"\")"
   ]
  },
  {
   "cell_type": "code",
   "execution_count": 4,
   "id": "46c0001d-d770-4161-8c21-ac43b2b49977",
   "metadata": {},
   "outputs": [],
   "source": [
    "# Optional: Insert dummy data\n",
    "cursor.executemany(\"\"\"\n",
    "INSERT INTO sales (product, quantity, price) VALUES (?, ?, ?)\n",
    "\"\"\", [\n",
    "    (\"Apple\", 10, 5),\n",
    "    (\"Banana\", 15, 3),\n",
    "    (\"Apple\", 20, 5),\n",
    "    (\"Orange\", 12, 4),\n",
    "])\n",
    "\n",
    "conn.commit()\n"
   ]
  },
  {
   "cell_type": "code",
   "execution_count": 5,
   "id": "a0678866-bbe4-4839-bd60-4ff6b00be8de",
   "metadata": {},
   "outputs": [],
   "source": [
    "# Step 3: SQL query to summarize data\n",
    "query = \"\"\"\n",
    "SELECT product, \n",
    "       SUM(quantity) AS total_qty, \n",
    "       SUM(quantity * price) AS revenue \n",
    "FROM sales \n",
    "GROUP BY product\n",
    "\"\"\""
   ]
  },
  {
   "cell_type": "code",
   "execution_count": 6,
   "id": "2dae0071-76d1-48c8-b69a-adb1b4380509",
   "metadata": {},
   "outputs": [],
   "source": [
    "# Step 4: Run query using pandas\n",
    "df = pd.read_sql_query(query, conn)"
   ]
  },
  {
   "cell_type": "code",
   "execution_count": 7,
   "id": "f3f8db7d-b351-4d27-b512-95bae47693da",
   "metadata": {},
   "outputs": [
    {
     "name": "stdout",
     "output_type": "stream",
     "text": [
      "  product  total_qty  revenue\n",
      "0   Apple         30    150.0\n",
      "1  Banana         15     45.0\n",
      "2  Orange         12     48.0\n"
     ]
    }
   ],
   "source": [
    "# Step 5: Print result\n",
    "print(df)"
   ]
  },
  {
   "cell_type": "code",
   "execution_count": 8,
   "id": "9a88d888-a6a6-46ee-8d5d-0e1c5b001ec5",
   "metadata": {},
   "outputs": [
    {
     "data": {
      "image/png": "[encoded data removed]",
      "text/plain": [
       "<Figure size 640x480 with 1 Axes>"
      ]
     },
     "metadata": {},
     "output_type": "display_data"
    }
   ],
   "source": [
    "# Step 6: Plot the revenue per product\n",
    "df.plot(kind='bar', x='product', y='revenue', title='Revenue per Product', legend=False)\n",
    "plt.ylabel('Revenue')\n",
    "plt.tight_layout()"
   ]
  },
  {
   "cell_type": "code",
   "execution_count": 9,
   "id": "618c007e-5b8e-4234-9d61-ce173b8e343d",
   "metadata": {},
   "outputs": [
    {
     "data": {
      "text/plain": [
       "<Figure size 640x480 with 0 Axes>"
      ]
     },
     "metadata": {},
     "output_type": "display_data"
    }
   ],
   "source": [
    "# Optional: Save the chart\n",
    "plt.savefig(\"sales_chart.png\")"
   ]
  },
  {
   "cell_type": "code",
   "execution_count": 10,
   "id": "cd737e4d-1d61-4fdb-b18a-fb548957b2ac",
   "metadata": {},
   "outputs": [],
   "source": [
    "# Show plot\n",
    "plt.show()"
   ]
  },
  {
   "cell_type": "code",
   "execution_count": 11,
   "id": "43b492d7-a1f9-400a-9f8b-f3662e4c0062",
   "metadata": {},
   "outputs": [],
   "source": [
    "# Close connection\n",
    "conn.close()"
   ]
  },
  {
   "cell_type": "code",
   "execution_count": null,
   "id": "bf75458e-9b53-4de7-919c-972ea20ad6c0",
   "metadata": {},
   "outputs": [],
   "source": []
  }
 ],
 "metadata": {
  "kernelspec": {
   "display_name": "Python 3 (ipykernel)",
   "language": "python",
   "name": "python3"
  },
  "language_info": {
   "codemirror_mode": {
    "name": "ipython",
    "version": 3
   },
   "file_extension": ".py",
   "mimetype": "text/x-python",
   "name": "python",
   "nbconvert_exporter": "python",
   "pygments_lexer": "ipython3",
   "version": "3.13.2"
  }
 },
 "nbformat": 4,
 "nbformat_minor": 5
}
